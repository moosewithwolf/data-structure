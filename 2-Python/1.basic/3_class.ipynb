{
 "cells": [
  {
   "cell_type": "code",
   "execution_count": 4,
   "id": "593617ca",
   "metadata": {},
   "outputs": [
    {
     "name": "stdout",
     "output_type": "stream",
     "text": [
      "Writing G.py\n"
     ]
    }
   ],
   "source": [
    "%%writefile G.py\n",
    "\n",
    "class foo:\n",
    "    a,b,c,d = 0, \"ace\", [1,2,3], (1,2,3)\n",
    "    \n",
    "newObj = foo()\n",
    "print(newObj.a)\n",
    "print(newObj.b)\n",
    "print(newObj.c[2])\n",
    "print(newObj.d)"
   ]
  },
  {
   "cell_type": "code",
   "execution_count": 5,
   "id": "0d1d6317",
   "metadata": {},
   "outputs": [
    {
     "name": "stdout",
     "output_type": "stream",
     "text": [
      "<__main__.Point object at 0x106b2d0a0>\n"
     ]
    }
   ],
   "source": [
    "class Point:\n",
    "    pass # when you don't want to write any code yet\n",
    "p = Point()\n",
    "print(p)"
   ]
  },
  {
   "cell_type": "code",
   "execution_count": 6,
   "id": "8302affd",
   "metadata": {},
   "outputs": [
    {
     "ename": "AttributeError",
     "evalue": "'Point' object has no attribute 'x'",
     "output_type": "error",
     "traceback": [
      "\u001b[0;31m---------------------------------------------------------------------------\u001b[0m",
      "\u001b[0;31mAttributeError\u001b[0m                            Traceback (most recent call last)",
      "Cell \u001b[0;32mIn[6], line 1\u001b[0m\n\u001b[0;32m----> 1\u001b[0m p\u001b[38;5;241m.\u001b[39mx\n",
      "\u001b[0;31mAttributeError\u001b[0m: 'Point' object has no attribute 'x'"
     ]
    }
   ],
   "source": [
    "p.x # cannot access non exist attribute"
   ]
  },
  {
   "cell_type": "code",
   "execution_count": null,
   "id": "ec700d37",
   "metadata": {},
   "outputs": [],
   "source": [
    "p.x = 10 # but can create attribute outside\n",
    "p.y = [1,2,3]\n",
    "\n",
    "print(p.x)\n",
    "print(p.y)"
   ]
  },
  {
   "cell_type": "code",
   "execution_count": null,
   "id": "0fb3c21b",
   "metadata": {},
   "outputs": [],
   "source": [
    "class Human:\n",
    "    def __init__(self, s, i):\n",
    "        self.name = s\n",
    "        self.age = i\n",
    "\n",
    "\n",
    "a = Human(\"shin\", 10)\n",
    "print(a.name)\n",
    "print(a.age)\n"
   ]
  },
  {
   "cell_type": "code",
   "execution_count": null,
   "id": "596e55b2",
   "metadata": {},
   "outputs": [],
   "source": [
    "class Human:\n",
    "    def __init__(self, s, i):\n",
    "        self.name = s\n",
    "        self.age = i\n",
    "\n",
    "    def getAge(self, i):\n",
    "        self.age += i\n",
    "b = Human(\"man\", 10)\n",
    "b.getAge(50)\n",
    "print(b.age)\n"
   ]
  },
  {
   "cell_type": "code",
   "execution_count": null,
   "id": "6265c1f1",
   "metadata": {},
   "outputs": [],
   "source": [
    "#use self in parameter\n",
    "newH = Human('Marie', 10)\n",
    "Human.getAge(newH, 5)\n",
    "print(newH.age)"
   ]
  },
  {
   "cell_type": "code",
   "execution_count": null,
   "id": "18f793a2",
   "metadata": {},
   "outputs": [],
   "source": [
    "class Point:\n",
    "    def __init__(self, x, y):\n",
    "        self.x = x\n",
    "        self.y = y\n",
    "\n",
    "    def translate(self, x, y):\n",
    "        self.x += x\n",
    "        self.y += y\n",
    "\n",
    "    def halfway(self, target):\n",
    "        tempX = (self.x + target.x) / 2\n",
    "        tempY = (self.y + target.y) / 2\n",
    "        return Point(tempX, tempY)\n",
    "    \n",
    "    def midpoint(p1, p2):\n",
    "        return Point((p1.x + p2.x) / 2, (p1.y + p2.y) / 2)\n",
    "\n",
    "p = Point(3, 4)\n",
    "q = Point(5, 12)\n",
    "r = p.halfway(q)\n",
    "print(r.x, r.y)\n",
    "\n"
   ]
  },
  {
   "cell_type": "code",
   "execution_count": null,
   "id": "b92fa10b",
   "metadata": {},
   "outputs": [],
   "source": [
    "r = Point.midpoint(p, q)\n",
    "print(r.x, r.y)"
   ]
  },
  {
   "cell_type": "code",
   "execution_count": null,
   "id": "62817d97",
   "metadata": {},
   "outputs": [],
   "source": [
    "#encapsulation\n",
    "class MyClass:\n",
    "    def __init__(self, value):\n",
    "        self.__value = value\n",
    "\n",
    "    @property\n",
    "    def value(self):\n",
    "        return self.__value\n",
    "\n",
    "    @value.setter\n",
    "    def value(self, v):\n",
    "        if v < 0:\n",
    "            raise ValueError\n",
    "        self.__value = v"
   ]
  }
 ],
 "metadata": {
  "kernelspec": {
   "display_name": "base",
   "language": "python",
   "name": "python3"
  },
  "language_info": {
   "codemirror_mode": {
    "name": "ipython",
    "version": 3
   },
   "file_extension": ".py",
   "mimetype": "text/x-python",
   "name": "python",
   "nbconvert_exporter": "python",
   "pygments_lexer": "ipython3",
   "version": "3.12.7"
  }
 },
 "nbformat": 4,
 "nbformat_minor": 5
}
