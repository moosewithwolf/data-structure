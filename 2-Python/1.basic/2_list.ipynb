{
 "cells": [
  {
   "cell_type": "code",
   "execution_count": 2,
   "id": "428d90c1",
   "metadata": {},
   "outputs": [
    {
     "name": "stdout",
     "output_type": "stream",
     "text": [
      "True\n",
      "True\n"
     ]
    }
   ],
   "source": [
    "\n",
    "x = [1,2,3]\n",
    "y = x\n",
    "print(x is y) # check if x and y are the same object\n",
    "print(x == y) # check if x and y have the same value"
   ]
  },
  {
   "cell_type": "code",
   "execution_count": 3,
   "id": "8fbf6429-f428-40cb-bc7b-44fbab414642",
   "metadata": {},
   "outputs": [
    {
     "name": "stdout",
     "output_type": "stream",
     "text": [
      "False\n",
      "True\n"
     ]
    }
   ],
   "source": [
    "\n",
    "x = [1,2,3]\n",
    "y = x.copy()  # BUT shallow copy\n",
    "print(x is y) # check if x and y are the same object\n",
    "print(x == y) # check if x and y have the same value"
   ]
  },
  {
   "cell_type": "code",
   "execution_count": 4,
   "id": "8020461a",
   "metadata": {},
   "outputs": [
    {
     "name": "stdout",
     "output_type": "stream",
     "text": [
      "True\n",
      "False\n",
      "True\n"
     ]
    }
   ],
   "source": [
    "# shallow copy의 문제점\n",
    "a = [[11],[12],[13]]\n",
    "b = a.copy() # same as a[:]\n",
    "\n",
    "print(a==b)\n",
    "print(a is b)\n",
    "print (a[1] is b[1]) #this makes problem\n",
    "# a[1] and b[1] are referencing the same object even array of a and b are different\n"
   ]
  },
  {
   "cell_type": "code",
   "execution_count": 5,
   "id": "f643a2bf",
   "metadata": {},
   "outputs": [
    {
     "name": "stdout",
     "output_type": "stream",
     "text": [
      "True\n",
      "True\n",
      "True\n"
     ]
    }
   ],
   "source": [
    "# how to deep copy\n",
    "import copy\n",
    "\n",
    "a = [[11],[12],[13]]\n",
    "b = copy.deepcopy(a)\n",
    "\n",
    "print(a==b)\n",
    "print(a is not b)\n",
    "print (a[1] is not b[1]) "
   ]
  },
  {
   "cell_type": "code",
   "execution_count": 6,
   "id": "edf6d668",
   "metadata": {},
   "outputs": [
    {
     "name": "stdout",
     "output_type": "stream",
     "text": [
      "[1, 2, 3]\n",
      "(1, 2, 3)\n"
     ]
    }
   ],
   "source": [
    "# convert other type like tuples, list\n",
    "x = (1,2,3)\n",
    "y = list(x)\n",
    "print(y)\n",
    "\n",
    "x = [1,2,3]\n",
    "y = tuple(x)\n",
    "print(y)\n"
   ]
  },
  {
   "cell_type": "code",
   "execution_count": null,
   "id": "8f6d1512",
   "metadata": {},
   "outputs": [],
   "source": [
    "\n"
   ]
  }
 ],
 "metadata": {
  "kernelspec": {
   "display_name": "base",
   "language": "python",
   "name": "python3"
  },
  "language_info": {
   "codemirror_mode": {
    "name": "ipython",
    "version": 3
   },
   "file_extension": ".py",
   "mimetype": "text/x-python",
   "name": "python",
   "nbconvert_exporter": "python",
   "pygments_lexer": "ipython3",
   "version": "3.12.7"
  }
 },
 "nbformat": 4,
 "nbformat_minor": 5
}
